{
 "cells": [
  {
   "cell_type": "code",
   "execution_count": null,
   "metadata": {},
   "outputs": [],
   "source": [
    "import os\n",
    "import numpy as np\n",
    "import pandas as pd\n",
    "import glob\n",
    "data_dir = \"../commision\"\n"
   ]
  },
  {
   "cell_type": "code",
   "execution_count": 33,
   "metadata": {},
   "outputs": [
    {
     "name": "stdout",
     "output_type": "stream",
     "text": [
      "../commision/pred_base_sparta2.csv\n",
      "../commision/pred_base_total2.csv\n",
      "../commision/pred_base_sparta.csv\n",
      "../commision/pred_base_total.csv\n",
      "87688\n",
      "82447\n",
      "     key category pred_score                                   video_title  \\\n",
      "0     86    ISSUE      0.644  얼굴공개 했던 사기꾼 류효헌이 구치소에서 편지를 보냈습니다. [중고차 허위매물]   \n",
      "1  25447    ISSUE      0.992                      파랑새 킬1러, 당신이 몰랐던 10가지 사실   \n",
      "2  25445    ISSUE      0.996                          먼치맨, 당신이 몰랐던 17가지 사실   \n",
      "3  25442    ISSUE      0.999                          조희팔, 당신이 몰랐던 13가지 사실   \n",
      "4  25439    ISSUE      0.999                          신혜성, 당신이 몰랐던 12가지 사실   \n",
      "5  25436    ISSUE      0.998                          설민석, 당신이 몰랐던 15가지 사실   \n",
      "6  25432    ISSUE      1.000                           갓갓, 당신이 몰랐던 11가지 사실   \n",
      "7  25431    ISSUE      0.999                      파맛첵스 사건, 당신이 몰랐던 12가지 사실   \n",
      "8  25430    ISSUE      0.970                    범죄도시 실제사건, 당신이 몰랐던 12가지 사실   \n",
      "9  25429    ISSUE      0.983                          벤제마, 당신이 몰랐던 11가지 사실   \n",
      "\n",
      "  channel_title                                          video_tag  \\\n",
      "0   아라리요의[카라리요]  [\"'중고차'\", \" '카라리요'\", \" '허위딜러 참교육'\", \" '허위딜러'\",...   \n",
      "1          괴인협회                                [\"'인물'\", \" '인물소개'\"]   \n",
      "2          괴인협회            [\"'인물'\", \" '인물소개'\", \" '먼치맨'\", \" 'VVS'\"]   \n",
      "3          괴인협회                      [\"'인물'\", \" '인물소개'\", \" '조희팔'\"]   \n",
      "4          괴인협회                      [\"'인물'\", \" '인물소개'\", \" '신혜성'\"]   \n",
      "5          괴인협회                      [\"'인물'\", \" '인물소개'\", \" '설민석'\"]   \n",
      "6          괴인협회                                [\"'인물'\", \" '인물소개'\"]   \n",
      "7          괴인협회                     [\"'인물'\", \" '인물소개'\", \" '파맛첵스'\"]   \n",
      "8          괴인협회            [\"'인물'\", \" '인물소개'\", \" '손석구'\", \" '마동석'\"]   \n",
      "9          괴인협회                   [\"'인물'\", \" '인물소개'\", \" '카심 벤제마'\"]   \n",
      "\n",
      "      video_id     src  \n",
      "0  8EDBJaYawQo  online  \n",
      "1  ZVqekaK_Sao  online  \n",
      "2  YtMcAFMBpRk  online  \n",
      "3  Y7b5GpubAFc  online  \n",
      "4  XdZKCLbgTKw  online  \n",
      "5  wKW94s7NMwc  online  \n",
      "6  UeA41vfoE3k  online  \n",
      "7  TShk7E1XuSo  online  \n",
      "8  s-G531x-vBY  online  \n",
      "9  rRbXjRFp5V8  online  \n"
     ]
    }
   ],
   "source": [
    "csv_list = glob.glob(data_dir + \"/*\")\n",
    "#print(csv_list)\n",
    "\n",
    "df_list = []\n",
    "for csv_input in csv_list:\n",
    "    if \"st\" in csv_input or \"merge\" in csv_input:\n",
    "        continue\n",
    "    print(csv_input)\n",
    "    #print(len(df_in), df_in.columns)\n",
    "    df_in = pd.read_csv(csv_input)\n",
    "    df_in[\"src\"] = \"online\"\n",
    "    df_in = df_in.drop(columns=[\"idx\"], axis=1)\n",
    "    #print(len(df_in), df_in.columns)\n",
    "    #print(df_in[:5])\n",
    "    df_list.append(df_in)\n",
    "\n",
    "merged_data = pd.concat(df_list)\n",
    "print(len(merged_data))\n",
    "merged_data = merged_data.drop_duplicates(subset=['video_id'], keep='first')\n",
    "print(len(merged_data))\n",
    "#merged_data = merged_data.drop(columns=[\"idx\"], axis=1)\n",
    "merged_data = merged_data.sort_values(by=[\"category\"])\n",
    "merged_data = merged_data.reset_index(drop=True)\n",
    "print(merged_data[:10])\n",
    "merged_data.to_csv(os.path.join(data_dir + \"/online_merged2.csv\"), encoding=\"utf-8\")"
   ]
  },
  {
   "cell_type": "code",
   "execution_count": 39,
   "metadata": {},
   "outputs": [
    {
     "name": "stdout",
     "output_type": "stream",
     "text": [
      "Index(['video_id', 'channel_title', 'video_tag', 'video_title', 'category',\n",
      "       'src'],\n",
      "      dtype='object')\n",
      "82447\n",
      "Index(['key', 'category', 'pred_score', 'video_title', 'channel_title',\n",
      "       'video_tag', 'video_id', 'src'],\n",
      "      dtype='object')\n",
      "POLITICS          45986\n",
      "TALK              20734\n",
      "ISSUE             15614\n",
      "POLITICS/ISSUE       60\n",
      "TALK/ISSUE           41\n",
      "TALK/POLITICS        12\n",
      "Name: category, dtype: int64\n",
      "82447\n"
     ]
    }
   ],
   "source": [
    "st_input = os.path.join(data_dir +\"/st_ver1.csv\")\n",
    "st_df = pd.read_csv(st_input)\n",
    "st_df[\"src\"] = \"ver1\"\n",
    "st_df = st_df.drop(columns=[\"idx\"], axis=1)\n",
    "print(st_df.columns)\n",
    "print(len(merged_data))\n",
    "st_ver2 = pd.concat([merged_data, st_df])\n",
    "print(st_ver2.columns)\n",
    "st_ver2 = st_ver2.drop_duplicates(subset=['video_id'], keep='first')\n",
    "st_ver2 = st_ver2[st_ver2.src == \"online\"]\n",
    "st_ver2 = st_ver2.drop(columns=[\"src\"], axis=1)\n",
    "print(st_ver2[\"category\"].value_counts())\n",
    "\n",
    "st_ver2 = st_ver2.reset_index(drop=True)\n",
    "print(st_ver2[:10])\n",
    "st_ver2.to_csv(os.path.join(data_dir + \"/online_merged2.csv\"), encoding=\"utf-8\")\n",
    "\n"
   ]
  }
 ],
 "metadata": {
  "kernelspec": {
   "display_name": "elsa",
   "language": "python",
   "name": "python3"
  },
  "language_info": {
   "codemirror_mode": {
    "name": "ipython",
    "version": 3
   },
   "file_extension": ".py",
   "mimetype": "text/x-python",
   "name": "python",
   "nbconvert_exporter": "python",
   "pygments_lexer": "ipython3",
   "version": "3.8.15"
  },
  "orig_nbformat": 4,
  "vscode": {
   "interpreter": {
    "hash": "1add6e23c38601c71c3c224b655cfa64d6dce7cc1b0f9903ae21f60a1ae679ae"
   }
  }
 },
 "nbformat": 4,
 "nbformat_minor": 2
}
