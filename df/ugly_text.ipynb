{
 "cells": [
  {
   "cell_type": "code",
   "execution_count": 1,
   "metadata": {},
   "outputs": [],
   "source": [
    "import os\n",
    "import numpy as np\n",
    "import pandas as pd\n",
    "\n",
    "data_dir = \"../data\"\n",
    "ut_file = \"ugly_text.json\"\n"
   ]
  },
  {
   "cell_type": "code",
   "execution_count": 34,
   "metadata": {},
   "outputs": [
    {
     "name": "stdout",
     "output_type": "stream",
     "text": [
      "28673\n"
     ]
    }
   ],
   "source": [
    "input_filepath = os.path.join(data_dir, ut_file)\n",
    "ut_df = pd.read_json(input_filepath)\n",
    "print(len(ut_df))"
   ]
  },
  {
   "cell_type": "code",
   "execution_count": null,
   "metadata": {},
   "outputs": [],
   "source": []
  },
  {
   "cell_type": "code",
   "execution_count": 57,
   "metadata": {},
   "outputs": [
    {
     "name": "stdout",
     "output_type": "stream",
     "text": [
      "28673\n",
      "28673\n",
      "Index(['idx', 'vid', 'sentence', 'label', 'url'], dtype='object')\n"
     ]
    },
    {
     "data": {
      "text/plain": [
       "clean                                 21534\n",
       "lgbtq:ugly                             2287\n",
       "women:danger                           1030\n",
       "age:danger                              924\n",
       "race:danger                             854\n",
       "                                      ...  \n",
       "women:danger,men:danger,age:danger        1\n",
       "lgbtq:ugly,others:danger                  1\n",
       "men:ugly,others:danger                    1\n",
       "women:danger,lgbtq:danger                 1\n",
       "race:ugly,religion:danger                 1\n",
       "Name: label, Length: 85, dtype: int64"
      ]
     },
     "execution_count": 57,
     "metadata": {},
     "output_type": "execute_result"
    }
   ],
   "source": [
    "\n",
    "ut_data = ut_df[[\"data\", \"annotations\" ]]\n",
    "\n",
    "print(len(ut_data))#, ut_data.data.value_counts())\n",
    "ut_data.iloc[0].data\n",
    "ut_data.iloc[0].annotations\n",
    "out_dict = {\n",
    "    \"idx\":[],\n",
    "    \"vid\":[],\n",
    "    \"sentence\":[],\n",
    "    \"label\":[],\n",
    "    \"url\":[],\n",
    "}\n",
    "\n",
    "#for i in range(len(ut_data)):\n",
    "for i, line in ut_data.iterrows():\n",
    "    #print(line)\n",
    "    cur_data = line.data\n",
    "    cur_anno = line.annotations[0]\n",
    "    #print(cur_data)\n",
    "    cur_label = []\n",
    "\n",
    "    cur_vid = np.nan\n",
    "    cur_url = np.nan\n",
    "    for label_v in cur_anno[\"result\"]:\n",
    "        #print(label_v)\n",
    "        if label_v[\"value\"][\"choices\"][0] != 'none':\n",
    "            cur_label.append(f\"{label_v['from_name']}:{label_v['value']['choices'][0]}\")\n",
    "    if cur_label:\n",
    "        cur_label = \",\".join(cur_label)\n",
    "    else:\n",
    "        cur_label = \"clean\"\n",
    "    if \"video_id\" in cur_data.keys():\n",
    "        cur_vid = cur_data[\"video_id\"]\n",
    "    if \"video_url\" in cur_data.keys():\n",
    "        cur_url = cur_data[\"video_url\"]\n",
    "    else:\n",
    "        cur_src = np.nan\n",
    "    out_dict[\"idx\"].append(cur_anno[\"id\"])\n",
    "    out_dict[\"vid\"].append(cur_vid)\n",
    "    out_dict[\"sentence\"].append(cur_data[\"text\"])\n",
    "    out_dict[\"label\"].append(cur_label)\n",
    "    out_dict[\"url\"].append(cur_url)\n",
    "\n",
    "    \n",
    "out_df = pd.DataFrame.from_dict(out_dict)\n",
    "print(len(out_df))\n",
    "print(out_df.columns)\n",
    "out_df = out_df.sort_values(\"idx\")\n",
    "out_file = os.path.join(data_dir, \"ugly_text.csv\")\n",
    "out_df.to_csv(out_file)\n",
    "\n",
    "out_df.label.value_counts()    "
   ]
  },
  {
   "cell_type": "code",
   "execution_count": null,
   "metadata": {},
   "outputs": [],
   "source": []
  },
  {
   "cell_type": "code",
   "execution_count": null,
   "metadata": {},
   "outputs": [],
   "source": []
  },
  {
   "cell_type": "code",
   "execution_count": null,
   "metadata": {},
   "outputs": [],
   "source": []
  },
  {
   "cell_type": "code",
   "execution_count": null,
   "metadata": {},
   "outputs": [],
   "source": []
  },
  {
   "cell_type": "code",
   "execution_count": null,
   "metadata": {},
   "outputs": [],
   "source": []
  },
  {
   "cell_type": "code",
   "execution_count": null,
   "metadata": {},
   "outputs": [],
   "source": []
  },
  {
   "cell_type": "code",
   "execution_count": null,
   "metadata": {},
   "outputs": [],
   "source": []
  },
  {
   "cell_type": "code",
   "execution_count": null,
   "metadata": {},
   "outputs": [],
   "source": []
  },
  {
   "cell_type": "code",
   "execution_count": null,
   "metadata": {},
   "outputs": [],
   "source": []
  },
  {
   "cell_type": "code",
   "execution_count": null,
   "metadata": {},
   "outputs": [],
   "source": []
  }
 ],
 "metadata": {
  "kernelspec": {
   "display_name": "elsa",
   "language": "python",
   "name": "python3"
  },
  "language_info": {
   "codemirror_mode": {
    "name": "ipython",
    "version": 3
   },
   "file_extension": ".py",
   "mimetype": "text/x-python",
   "name": "python",
   "nbconvert_exporter": "python",
   "pygments_lexer": "ipython3",
   "version": "3.8.15 (default, Nov 24 2022, 09:04:07) \n[Clang 14.0.6 ]"
  },
  "orig_nbformat": 4,
  "vscode": {
   "interpreter": {
    "hash": "1add6e23c38601c71c3c224b655cfa64d6dce7cc1b0f9903ae21f60a1ae679ae"
   }
  }
 },
 "nbformat": 4,
 "nbformat_minor": 2
}
