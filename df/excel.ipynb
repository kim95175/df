{
 "cells": [
  {
   "cell_type": "code",
   "execution_count": null,
   "metadata": {},
   "outputs": [],
   "source": [
    "import os\n",
    "import numpy as np\n",
    "import pandas as pd\n",
    "\n",
    "data_dir = \"../data\""
   ]
  },
  {
   "cell_type": "code",
   "execution_count": null,
   "metadata": {},
   "outputs": [],
   "source": [
    "xlsx_file_name = \"sensitivetitle.xlsx\"\n",
    "input_file = os.path.join(data_dir, xlsx_file_name)\n",
    "xlsx_in = pd.read_excel(input_file)\n"
   ]
  },
  {
   "cell_type": "code",
   "execution_count": null,
   "metadata": {},
   "outputs": [],
   "source": [
    "#print(xlsx_in.head(5))\n",
    "print(xlsx_in.columns)\n",
    "my_df = xlsx_in.drop(columns=[xlsx_in.columns[0]])\n",
    "my_df = my_df.drop(columns=[\"idx\",\"channelTag\", \"vid\", \"cid\"])\n",
    "#my_df = my_df.reset_index()\n",
    "print(my_df.columns)\n",
    "#print(my_df.head(5))\n",
    "print(my_df.category.value_counts())\n",
    "my_df.category = my_df.category.replace(\"WL정치\", \"politics-exception\")\n",
    "my_df.category = my_df.category.replace(\"BL정치\", \"politics\")\n",
    "my_df.category = my_df.category.replace(\"WL토크\", \"talk-exception\")\n",
    "my_df.category = my_df.category.replace(\"BL토크\", \"talk\")\n",
    "my_df.category = my_df.category.replace(\"WL이슈\", \"issue-exception\")\n",
    "my_df.category = my_df.category.replace(\"BL이슈\", \"issue\")\n",
    "my_df.category = my_df.category.replace(\"safe\", \"clean\")\n",
    "#print(my_df.head(5))\n",
    "print(my_df.columns)\n",
    "print(my_df.category.value_counts())\n",
    "my_df = my_df[[\"channelTitle\", \"videoTitle\", \"category\", \"videoTag\"]]\n",
    "out_filepath = os.path.join(data_dir, \"sensitive_title.csv\")\n",
    "my_df.to_csv(out_filepath, index_label=\"idx\")\n",
    "\n"
   ]
  },
  {
   "cell_type": "code",
   "execution_count": null,
   "metadata": {},
   "outputs": [],
   "source": []
  },
  {
   "cell_type": "code",
   "execution_count": null,
   "metadata": {},
   "outputs": [],
   "source": []
  }
 ],
 "metadata": {
  "kernelspec": {
   "display_name": "elsa",
   "language": "python",
   "name": "python3"
  },
  "language_info": {
   "codemirror_mode": {
    "name": "ipython",
    "version": 3
   },
   "file_extension": ".py",
   "mimetype": "text/x-python",
   "name": "python",
   "nbconvert_exporter": "python",
   "pygments_lexer": "ipython3",
   "version": "3.8.15"
  },
  "orig_nbformat": 4,
  "vscode": {
   "interpreter": {
    "hash": "1add6e23c38601c71c3c224b655cfa64d6dce7cc1b0f9903ae21f60a1ae679ae"
   }
  }
 },
 "nbformat": 4,
 "nbformat_minor": 2
}
