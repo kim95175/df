{
 "cells": [
  {
   "cell_type": "code",
   "execution_count": 1,
   "metadata": {},
   "outputs": [],
   "source": [
    "import os\n",
    "import numpy as np\n",
    "import pandas as pd\n",
    "\n",
    "data_dir = \"../data\"\n",
    "file_name = \"train.csv\""
   ]
  },
  {
   "cell_type": "code",
   "execution_count": 2,
   "metadata": {},
   "outputs": [],
   "source": [
    "infile = os.path.join(data_dir, file_name)\n",
    "df_in = pd.read_csv(infile)"
   ]
  },
  {
   "cell_type": "code",
   "execution_count": 4,
   "metadata": {},
   "outputs": [
    {
     "name": "stdout",
     "output_type": "stream",
     "text": [
      "1002041\n",
      "Index(['key', 'category', 'pred_score', 'video_title', 'channel_title',\n",
      "       'video_tag'],\n",
      "      dtype='object')\n"
     ]
    }
   ],
   "source": [
    "print(len(df_in))\n",
    "\n",
    "df = df_in.drop(labels=df_in.columns[0], axis=1)\n",
    "\n",
    "df = df.rename({\n",
    "        \"videoTitle\":\"video_title\", \n",
    "        \"channelTitle\": \"channel_title\",\n",
    "        \"videoTag\": \"video_tag\"},\n",
    "        axis=1)\n",
    "print(df.columns)\n",
    "df[:10]\n",
    "\n",
    "df.to_csv(os.path.join(data_dir, \"train_total.csv\")\n",
    "                ,encoding=\"utf-8\")\n"
   ]
  }
 ],
 "metadata": {
  "kernelspec": {
   "display_name": "elsa",
   "language": "python",
   "name": "python3"
  },
  "language_info": {
   "codemirror_mode": {
    "name": "ipython",
    "version": 3
   },
   "file_extension": ".py",
   "mimetype": "text/x-python",
   "name": "python",
   "nbconvert_exporter": "python",
   "pygments_lexer": "ipython3",
   "version": "3.8.15"
  },
  "orig_nbformat": 4,
  "vscode": {
   "interpreter": {
    "hash": "1add6e23c38601c71c3c224b655cfa64d6dce7cc1b0f9903ae21f60a1ae679ae"
   }
  }
 },
 "nbformat": 4,
 "nbformat_minor": 2
}
